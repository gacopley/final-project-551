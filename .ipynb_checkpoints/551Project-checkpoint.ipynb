{
 "cells": [
  {
   "cell_type": "code",
   "execution_count": 16,
   "id": "b288127d",
   "metadata": {
    "scrolled": true
   },
   "outputs": [],
   "source": [
    "import Pandas as pd\n",
    "import Seaborn as sns\n",
    "using PyPlot\n",
    "using Random\n",
    "import Statistics.mean\n",
    "import LinearAlgebra.dot\n",
    "import LinearAlgebra.norm\n",
    "import LinearAlgebra.I\n",
    "import Printf.@printf"
   ]
  },
  {
   "cell_type": "code",
   "execution_count": 14,
   "id": "9cbf4a0f",
   "metadata": {},
   "outputs": [
    {
     "name": "stderr",
     "output_type": "stream",
     "text": [
      "┌ Info: Installing seaborn via the Conda seaborn package...\n",
      "└ @ PyCall C:\\Users\\galex\\.julia\\packages\\PyCall\\ygXW2\\src\\PyCall.jl:719\n",
      "┌ Info: Running `conda install -y seaborn` in root environment\n",
      "└ @ Conda C:\\Users\\galex\\.julia\\packages\\Conda\\x2UxR\\src\\Conda.jl:127\n"
     ]
    },
    {
     "name": "stdout",
     "output_type": "stream",
     "text": [
      "Collecting package metadata (current_repodata.json): ...working... done\n",
      "Solving environment: ...working... done\n",
      "\n",
      "## Package Plan ##\n",
      "\n",
      "  environment location: C:\\Users\\galex\\.julia\\conda\\3\n",
      "\n",
      "  added / updated specs:\n",
      "    - seaborn\n",
      "\n",
      "\n",
      "The following packages will be downloaded:\n",
      "\n",
      "    package                    |            build\n",
      "    ---------------------------|-----------------\n",
      "    patsy-0.5.3                |     pyhd8ed1ab_0         189 KB  conda-forge\n",
      "    scipy-1.9.1                |  py310h578b7cb_0        28.2 MB  conda-forge\n",
      "    seaborn-0.12.1             |       hd8ed1ab_0           5 KB  conda-forge\n",
      "    seaborn-base-0.12.1        |     pyhd8ed1ab_0         217 KB  conda-forge\n",
      "    statsmodels-0.13.2         |  py310h2bbff1b_0         8.3 MB\n",
      "    typing_extensions-4.4.0    |     pyha770c72_0          29 KB  conda-forge\n",
      "    ------------------------------------------------------------\n",
      "                                           Total:        37.0 MB\n",
      "\n",
      "The following NEW packages will be INSTALLED:\n",
      "\n",
      "  patsy              conda-forge/noarch::patsy-0.5.3-pyhd8ed1ab_0 None\n",
      "  scipy              conda-forge/win-64::scipy-1.9.1-py310h578b7cb_0 None\n",
      "  seaborn            conda-forge/noarch::seaborn-0.12.1-hd8ed1ab_0 None\n",
      "  seaborn-base       conda-forge/noarch::seaborn-base-0.12.1-pyhd8ed1ab_0 None\n",
      "  statsmodels        pkgs/main/win-64::statsmodels-0.13.2-py310h2bbff1b_0 None\n",
      "  typing_extensions  conda-forge/noarch::typing_extensions-4.4.0-pyha770c72_0 None\n",
      "\n",
      "\n",
      "\n",
      "Downloading and Extracting Packages\n",
      "statsmodels-0.13.2   | 8.3 MB    | ########## | 100% \n",
      "seaborn-0.12.1       | 5 KB      | ########## | 100% \n",
      "typing_extensions-4. | 29 KB     | ########## | 100% \n",
      "seaborn-base-0.12.1  | 217 KB    | ########## | 100% \n",
      "patsy-0.5.3          | 189 KB    | ########## | 100% \n",
      "scipy-1.9.1          | 28.2 MB   | ########## | 100% \n",
      "Preparing transaction: ...working... done\n",
      "Verifying transaction: ...working... done\n",
      "Executing transaction: ...working... done\n",
      "Retrieving notices: ...working... done\n"
     ]
    }
   ],
   "source": []
  },
  {
   "cell_type": "code",
   "execution_count": null,
   "id": "afea7993",
   "metadata": {},
   "outputs": [],
   "source": []
  },
  {
   "cell_type": "code",
   "execution_count": null,
   "id": "9cae8550",
   "metadata": {},
   "outputs": [],
   "source": []
  }
 ],
 "metadata": {
  "kernelspec": {
   "display_name": "Julia 1.8.2",
   "language": "julia",
   "name": "julia-1.8"
  },
  "language_info": {
   "file_extension": ".jl",
   "mimetype": "application/julia",
   "name": "julia",
   "version": "1.8.2"
  }
 },
 "nbformat": 4,
 "nbformat_minor": 5
}
